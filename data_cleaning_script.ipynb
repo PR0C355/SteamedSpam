{
  "cells": [
    {
      "cell_type": "code",
      "execution_count": null,
      "id": "c3dc7244-e8e6-4279-b90a-509ed1f4b27b",
      "metadata": {
        "trusted": true
      },
      "outputs": [],
      "source": [
        "import pandas as pd\n",
        "import re"
      ]
    },
    {
      "cell_type": "code",
      "execution_count": null,
      "id": "b30e69ed-807f-458c-b2ec-670f00af6af7",
      "metadata": {
        "trusted": true
      },
      "outputs": [],
      "source": [
        "#loading in dataframes\n",
        "mail_df = pd.read_csv('cleaned_data/562 Project Mail.csv')\n",
        "sms_df = pd.read_csv('cleaned_data/562 Project SMS.csv')\n",
        "ling_df = pd.read_csv('cleaned_data/562 Project Ling.csv')\n",
        "_5971_df = pd.read_csv('cleaned_data/562 Project 5971(in).csv')"
      ]
    },
    {
      "cell_type": "code",
      "execution_count": null,
      "id": "b5ef5a73",
      "metadata": {},
      "outputs": [],
      "source": [
        "#Editing Ling dataset\n",
        "\n",
        "#Removes the 'subject' column\n",
        "ling_df = ling_df.drop('subject', axis=1)\n",
        "\n",
        "#Changes the column name 'label' to 'label_num' and 'message' to 'text'\n",
        "ling_df = ling_df.rename(columns={'label': 'label_num', 'message': 'text'})\n",
        "\n",
        "#if label_num is 1, value in 'label' is spam, otherwise its ham\n",
        "ling_df['label'] = ling_df['label_num'].apply(lambda x: 'spam' if x == 1 else 'ham')\n",
        "\n",
        "#adding the source and type columns \n",
        "ling_df['source'] = 'Ling_Spam'\n",
        "ling_df['type'] = 'text'\n",
        "\n",
        "#reorganizes the columns\n",
        "ling_df = ling_df[['text', 'label', 'label_num', 'source', 'type']]"
      ]
    },
    {
      "cell_type": "code",
      "execution_count": null,
      "id": "cf62ed44",
      "metadata": {},
      "outputs": [],
      "source": [
        "#Editing Spam Mail dataset\n",
        "#adding the source and type columns\n",
        "mail_df['source'] = 'spam_mails'\n",
        "mail_df['type'] = 'email'\n",
        "\n",
        "#reorganizes the columns\n",
        "mail_df = mail_df[['text', 'label', 'label_num', 'source', 'type']]"
      ]
    },
    {
      "cell_type": "code",
      "execution_count": null,
      "id": "178f3374",
      "metadata": {},
      "outputs": [],
      "source": [
        "#Editing SMS Spam dataset\n",
        "sms_df = sms_df.rename(columns={'v1': 'label', 'v2': 'text'})\n",
        "\n",
        "#if label is 'spam', value in 'label_num' is 1, otherwise its 0\n",
        "sms_df['label_num'] = sms_df['label'].apply(lambda x: 1 if x == 'spam' else 0)\n",
        "\n",
        "#adding the source and type columns\n",
        "sms_df['source'] = 'SMS_spam'\n",
        "sms_df['type'] = 'sms'\n",
        "\n",
        "#reorganizes the columns\n",
        "sms_df = sms_df[['text', 'label', 'label_num', 'source', 'type']]"
      ]
    },
    {
      "cell_type": "code",
      "execution_count": null,
      "id": "1fd82579",
      "metadata": {},
      "outputs": [],
      "source": [
        "#Editing Dataset_5971\n",
        "#Removes the 'URL', 'EMAIL', AND 'PHONE' columns\n",
        "_5971_df = _5971_df.drop('URL', axis=1)\n",
        "_5971_df = _5971_df.drop('EMAIL', axis=1)\n",
        "_5971_df = _5971_df.drop('PHONE', axis=1)\n",
        "\n",
        "#In the LABEL column, any value == 'Smishing', in a new column 'label', value == 'spam'\n",
        "df['label'] = df['LABEL'].replace('Smishing', 'spam')\n",
        "\n",
        "#Removes the 'LABEL' column\n",
        "_5971_df = _5971_df.drop('LABEL', axis=1)\n",
        "\n",
        "#Rename the column 'TEXT' to 'text'\n",
        "_5971_df = _5971_df.rename(columns={'TEXT': 'text'})\n",
        "\n",
        "#if label is 'spam', value in 'label_num' is 1, otherwise its 0\n",
        "_5971_df['label_num'] = _5971_df['label'].apply(lambda x: 1 if x == 'spam' else 0)\n",
        "\n",
        "#adding the source and type columns\n",
        "_5971_df['source'] = 'Mendeley_Dataset_5971'\n",
        "_5971_df['type'] = 'sms'\n",
        "\n",
        "#reorganizes the columns\n",
        "_5971_df =_5971_df[['text', 'label', 'label_num', 'source', 'type']]\n"
      ]
    },
    {
      "cell_type": "code",
      "execution_count": null,
      "id": "f1cf0ea5",
      "metadata": {},
      "outputs": [],
      "source": [
        "#function to get rid of weird symbols\n",
        "def remove_unidentifiable_symbols(text):\n",
        "    cleaned_text = re.sub(r'[�]', '', text)\n",
        "    return cleaned_text\n",
        "\n",
        "#Removes the weird symbols from all the datasets\n",
        "cleaned_dataset_5971 = [remove_unidentifiable_symbols(text) for text in _5971_df['text']]\n",
        "_5971_df['text'] = cleaned_dataset_5971\n",
        "\n",
        "cleaned_dataset_mail = [remove_unidentifiable_symbols(text) for text in mail_df['text']]\n",
        "mail_df['text'] = cleaned_dataset_mail\n",
        "\n",
        "cleaned_dataset_ling = [remove_unidentifiable_symbols(text) for text in ling_df['text']]\n",
        "ling_df['text'] = cleaned_dataset_ling\n",
        "\n",
        "cleaned_dataset_sms = [remove_unidentifiable_symbols(text) for text in _5971_df['text']]\n",
        "sms_df['text'] = cleaned_dataset_sms"
      ]
    },
    {
      "cell_type": "code",
      "execution_count": null,
      "id": "773b03c1",
      "metadata": {},
      "outputs": [],
      "source": [
        "#Concat the datasets together so it is 1 dataframe.\n",
        "combined = pd.concat([mail_df, sms_df], ignore_index=True)\n",
        "comb_2 = pd.concat([combined, ling_df], ignore_index=True)\n",
        "comb_3 = pd.concat([comb_2, _5971_df], ignore_index=True)"
      ]
    },
    {
      "cell_type": "code",
      "execution_count": null,
      "id": "e41e9106",
      "metadata": {},
      "outputs": [],
      "source": [
        "#Exporting to csv\n",
        "comb_3.to_csv(\"total_spam.csv\", index=False)"
      ]
    }
  ],
  "metadata": {
    "kernelspec": {
      "display_name": "Python (Pyodide)",
      "language": "python",
      "name": "python"
    },
    "language_info": {
      "codemirror_mode": {
        "name": "python",
        "version": 3
      },
      "file_extension": ".py",
      "mimetype": "text/x-python",
      "name": "python",
      "nbconvert_exporter": "python",
      "pygments_lexer": "ipython3",
      "version": "3.8"
    }
  },
  "nbformat": 4,
  "nbformat_minor": 5
}
