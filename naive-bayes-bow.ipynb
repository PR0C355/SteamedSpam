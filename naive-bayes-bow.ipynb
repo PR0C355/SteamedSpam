{
 "cells": [
  {
   "cell_type": "markdown",
   "metadata": {},
   "source": [
    "## Retrieve Classified Data"
   ]
  },
  {
   "cell_type": "code",
   "execution_count": 9,
   "metadata": {},
   "outputs": [],
   "source": [
    "import pandas as pd"
   ]
  },
  {
   "cell_type": "code",
   "execution_count": 10,
   "metadata": {},
   "outputs": [
    {
     "name": "stdout",
     "output_type": "stream",
     "text": [
      "                                                    text  label_num  \\\n",
      "0      Subject: enron methanol ; meter # : 988291\\r\\n...          0   \n",
      "1      Subject: hpl nom for january 9 , 2001\\r\\n( see...          0   \n",
      "2      Subject: neon retreat\\r\\nho ho ho , we ' re ar...          0   \n",
      "3      Subject: photoshop , windows , office . cheap ...          1   \n",
      "4      Subject: re : indian springs\\r\\nthis deal is t...          0   \n",
      "...                                                  ...        ...   \n",
      "19602                           :( but your not here....          0   \n",
      "19603  Becoz its  &lt;#&gt;  jan whn al the post ofic...          0   \n",
      "19604  Its a valentine game. . . send dis msg to all ...          0   \n",
      "19605                              We r outside already.          0   \n",
      "19606  The Xmas story is peace.. The Xmas msg is love...          0   \n",
      "\n",
      "      classification  \n",
      "0                ham  \n",
      "1                ham  \n",
      "2                ham  \n",
      "3       general spam  \n",
      "4                ham  \n",
      "...              ...  \n",
      "19602            ham  \n",
      "19603            ham  \n",
      "19604            ham  \n",
      "19605            ham  \n",
      "19606            ham  \n",
      "\n",
      "[19607 rows x 3 columns]\n"
     ]
    }
   ],
   "source": [
    "data = pd.read_csv(\"classified_spam.csv\")\n",
    "\n",
    "# Rows of interest\n",
    "print(data[[\"text\", \"label_num\", \"classification\"]])\n",
    "\n",
    "text = data[\"text\"]\n",
    "# We should probably do some preprocessing here\n",
    "is_spam = data[\"label_num\"]\n",
    "text_class = data[\"classification\"]"
   ]
  },
  {
   "cell_type": "markdown",
   "metadata": {},
   "source": [
    "## Prepare Model Evaluation"
   ]
  },
  {
   "cell_type": "code",
   "execution_count": 11,
   "metadata": {},
   "outputs": [],
   "source": [
    "from sklearn.feature_extraction.text import CountVectorizer\n",
    "from sklearn.feature_extraction.text import TfidfVectorizer\n",
    "from sklearn.model_selection import train_test_split\n",
    "import numpy as np"
   ]
  },
  {
   "cell_type": "code",
   "execution_count": 12,
   "metadata": {},
   "outputs": [],
   "source": [
    "def evaluate_model(model, X_test, Y_test):\n",
    "    predictions = model.predict(X_test)\n",
    "    Y_test_array = np.array(Y_test)\n",
    "    print(\"Overall accuracy of model:\", sum(predictions == Y_test_array) / len(predictions))\n",
    "    print(\"Accuracy on classifying spam:\", sum(np.where(Y_test_array != \"ham\", predictions == Y_test_array, 0)) / sum(Y_test_array != \"ham\"))\n",
    "    print(\"Accuracy on identifying ham from spam:\", sum(np.where(Y_test == \"ham\", predictions == Y_test, 0)) / sum(Y_test == \"ham\"))"
   ]
  },
  {
   "cell_type": "code",
   "execution_count": 13,
   "metadata": {},
   "outputs": [],
   "source": [
    "def vectorize_data(ngram_range=(1, 1), variation=\"count\"):\n",
    "    if variation == \"tfidf\":\n",
    "        vectorizer = TfidfVectorizer()\n",
    "        X = vectorizer.fit_transform(text)\n",
    "    if variation == \"count\":\n",
    "        vectorizer = CountVectorizer(ngram_range=ngram_range)\n",
    "        X = vectorizer.fit_transform(text)\n",
    "    return X, vectorizer"
   ]
  },
  {
   "cell_type": "markdown",
   "metadata": {},
   "source": [
    "# Bag of Words (aka CountVectorizer)"
   ]
  },
  {
   "cell_type": "code",
   "execution_count": 14,
   "metadata": {},
   "outputs": [],
   "source": [
    "vec_X, vectorizer = vectorize_data((1, 1), \"count\")\n",
    "# print(vectorizer.get_feature_names_out(vec_X))\n",
    "# print(vectorizer.vocabulary_)\n",
    "# print(vec_X.shape)\n",
    "# print(vec_X)"
   ]
  },
  {
   "cell_type": "code",
   "execution_count": 15,
   "metadata": {},
   "outputs": [],
   "source": [
    "X_train, X_test, Y_train, Y_test = train_test_split(vec_X, text_class, test_size=0.25, random_state=10)"
   ]
  },
  {
   "cell_type": "markdown",
   "metadata": {},
   "source": [
    "### Applying Logistic Regression"
   ]
  },
  {
   "cell_type": "code",
   "execution_count": 16,
   "metadata": {},
   "outputs": [
    {
     "name": "stdout",
     "output_type": "stream",
     "text": [
      "Overall accuracy of model: 0.9602203182374541\n",
      "Accuracy on classifying spam: 0.8211640211640212\n",
      "Accuracy on identifying ham from spam: 0.9934293656810715\n"
     ]
    }
   ],
   "source": [
    "from sklearn.linear_model import LogisticRegression\n",
    "\n",
    "lr_model = LogisticRegression(random_state=0, max_iter=1000)\n",
    "lr_model.fit(X_train, Y_train)\n",
    "evaluate_model(lr_model, X_test, Y_test)"
   ]
  },
  {
   "cell_type": "code",
   "execution_count": 17,
   "metadata": {},
   "outputs": [
    {
     "name": "stdout",
     "output_type": "stream",
     "text": [
      "Overall accuracy of model: 0.7195022439820481\n",
      "Accuracy on classifying spam: 0.7111111111111111\n",
      "Accuracy on identifying ham from spam: 0.7215061915592621\n"
     ]
    }
   ],
   "source": [
    "from sklearn.naive_bayes import GaussianNB\n",
    "\n",
    "nb_model = GaussianNB()\n",
    "nb_model.fit(X_train.toarray(), Y_train)\n",
    "evaluate_model(nb_model, X_test.toarray(), Y_test)"
   ]
  },
  {
   "cell_type": "markdown",
   "metadata": {},
   "source": [
    "# TF-IDF (Term Frequency Inverse Document Frequency)"
   ]
  },
  {
   "cell_type": "code",
   "execution_count": 18,
   "metadata": {},
   "outputs": [],
   "source": [
    "vec_X, vectorizer = vectorize_data((1, 1), \"tfidf\")\n",
    "# print(vectorizer.get_feature_names_out(vec_X))\n",
    "# print(vectorizer.vocabulary_)\n",
    "# print(vec_X.shape)\n",
    "# print(vec_X)"
   ]
  },
  {
   "cell_type": "code",
   "execution_count": 19,
   "metadata": {},
   "outputs": [],
   "source": [
    "X_train, X_test, Y_train, Y_test = train_test_split(vec_X, text_class, test_size=0.25, random_state=10)"
   ]
  },
  {
   "cell_type": "markdown",
   "metadata": {},
   "source": [
    "### Applying Logistic Regression"
   ]
  },
  {
   "cell_type": "code",
   "execution_count": 20,
   "metadata": {},
   "outputs": [
    {
     "name": "stdout",
     "output_type": "stream",
     "text": [
      "Overall accuracy of model: 0.9320685434516524\n",
      "Accuracy on classifying spam: 0.6613756613756614\n",
      "Accuracy on identifying ham from spam: 0.9967146828405358\n"
     ]
    }
   ],
   "source": [
    "from sklearn.linear_model import LogisticRegression\n",
    "\n",
    "lr_model = LogisticRegression(random_state=0, max_iter=1000)\n",
    "lr_model.fit(X_train, Y_train)\n",
    "evaluate_model(lr_model, X_test, Y_test)"
   ]
  },
  {
   "cell_type": "code",
   "execution_count": 21,
   "metadata": {},
   "outputs": [
    {
     "name": "stdout",
     "output_type": "stream",
     "text": [
      "Overall accuracy of model: 0.7368421052631579\n",
      "Accuracy on classifying spam: 0.7132275132275132\n",
      "Accuracy on identifying ham from spam: 0.7424816780389184\n"
     ]
    }
   ],
   "source": [
    "from sklearn.naive_bayes import GaussianNB\n",
    "\n",
    "nb_model = GaussianNB()\n",
    "nb_model.fit(X_train.toarray(), Y_train)\n",
    "evaluate_model(nb_model, X_test.toarray(), Y_test)"
   ]
  }
 ],
 "metadata": {
  "kernelspec": {
   "display_name": "sk-jupyter",
   "language": "python",
   "name": "python3"
  },
  "language_info": {
   "codemirror_mode": {
    "name": "ipython",
    "version": 3
   },
   "file_extension": ".py",
   "mimetype": "text/x-python",
   "name": "python",
   "nbconvert_exporter": "python",
   "pygments_lexer": "ipython3",
   "version": "3.11.6"
  }
 },
 "nbformat": 4,
 "nbformat_minor": 2
}
